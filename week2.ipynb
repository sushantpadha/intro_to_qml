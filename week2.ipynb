{
 "cells": [
  {
   "cell_type": "markdown",
   "metadata": {},
   "source": [
    "# Assignment - Week 2\n",
    "\n",
    "## Problem Statement\n",
    "\n",
    "Implement the Variational Quantum Eigensolver (VQE) algorithm to determine the ground state and ground state energy of a simple Hamiltonian system using Qiskit.\n",
    "\n",
    "1. Hamiltonian Definition:\n",
    "   - Use the following Hamiltonian for a 2-qubit system:\n",
    "    $H = X_0 X_1 + Y_0 Y_1 + Z_0 I_1$, here, $X, Y$ and $Z$ are Pauli operators, and $I$ is the identity operator.\n",
    "2. Variational Ansatz:\n",
    "   - Design a parameterized quantum circuit (ansatz) using rotational gates ($R_y, R_z$) and entangling gates (e.g., CNOT)\n",
    "   - The ansatz should be general enough to approximate the ground state.\n",
    "3. Cost Function:\n",
    "   - Define the cost function as the expectation value of the Hamiltonian with respect to the trial state produced by the ansatz.\n",
    "4. Optimization:\n",
    "   - Use a classical optimizer (like gradient descent) to minimize the cost function and determine the parameters that approximate the ground state.\n",
    "5. Execution:\n",
    "   - Simulate the VQE circuit using Qiskit’s Aer simulator.\n",
    "   - Compare the obtained ground state energy with the exact solution obtained via Qiskit’s NumPyMinimumEigensolver.\n",
    "6. Results and Analysis:\n",
    "   - Print the optimized ground state energy.\n",
    "   - Compare it to the exact eigenvalue of the Hamiltonian.\n",
    "   - Plot the convergence of the cost function over optimization iterations.\n",
    "\n",
    "### Guidelines\n",
    "- Refer to the Qiskit documentation for implementing VQE circuits and classical optimizers.\n",
    "- Ensure that the code is modular, with clear comments explaining each step.\n"
   ]
  },
  {
   "cell_type": "markdown",
   "metadata": {},
   "source": [
    "## Solution\n",
    "\n",
    "## References\n",
    "1. [IBM Quantum | Tutorials | Variational Quantum Eigensolver](https://learning.quantum.ibm.com/tutorial/variational-quantum-eigensolver)\n",
    "2. [IBM Quantum | Guides | `AerSimulator`](https://docs.quantum.ibm.com/migration-guides/local-simulators#aersimulator)"
   ]
  },
  {
   "cell_type": "code",
   "execution_count": 1,
   "metadata": {},
   "outputs": [],
   "source": [
    "import numpy as np\n",
    "\n",
    "from scipy.linalg import eigh\n",
    "\n",
    "from qiskit import QuantumCircuit\n",
    "from qiskit.circuit import Parameter\n",
    "from qiskit.quantum_info import SparsePauliOp\n",
    "\n",
    "from qiskit.transpiler.preset_passmanagers import generate_preset_pass_manager\n",
    "from qiskit_ibm_runtime import EstimatorV2\n",
    "from qiskit_aer import AerSimulator"
   ]
  },
  {
   "cell_type": "code",
   "execution_count": 2,
   "metadata": {},
   "outputs": [],
   "source": [
    "%matplotlib inline"
   ]
  },
  {
   "cell_type": "code",
   "execution_count": 20,
   "metadata": {},
   "outputs": [],
   "source": [
    "# store data from previous runs of cost function\n",
    "cost_history = {\n",
    "    \"iters\": 0,     # iterations\n",
    "    \"prev_th\": [],  # previous value of th\n",
    "    \"cost\": []      # previous outputs of cost fn\n",
    "}\n",
    "\n",
    "\n",
    "def parameterized_ansatz(n_qubits = 2, n_layers = 1, linear = True):\n",
    "    '''\n",
    "    Return (parametrizable ansatz, number of parameters)\n",
    "    '''\n",
    "\n",
    "    qc = QuantumCircuit(n_qubits)\n",
    "    th = []\n",
    "    \n",
    "    # number of params per qubit per layer\n",
    "    # fixed coz Ry, Rz used\n",
    "    n_params = 2\n",
    "    \n",
    "    # create param placeholders\n",
    "    for i in range(n_layers):\n",
    "        for j in range(n_qubits):\n",
    "            th.append(Parameter(f\"th_{i}_{j}_Ry\"))\n",
    "            th.append(Parameter(f\"th_{i}_{j}_Rz\"))\n",
    "\n",
    "    # apply gates\n",
    "    k = 0\n",
    "    for _ in range(n_layers):\n",
    "        for j in range(n_qubits):\n",
    "            # convention: first angle is for Ry\n",
    "            qc.ry(th[k], j)\n",
    "            k += 1\n",
    "            qc.rz(th[k], j)\n",
    "            k += 1\n",
    "\n",
    "        for j in range(n_qubits):\n",
    "            # using linear entanglement ONLY for case of 2-qubits\n",
    "            # because with change of basis, we can see that CX affects\n",
    "            # both qubits equally, so expressibility won't be affected (probably)\n",
    "            \n",
    "            # if not linear, do circular entanglement\n",
    "            if (j == n_qubits - 1) and not linear:\n",
    "                qc.cx(j, 0)\n",
    "            elif j < n_qubits - 1:\n",
    "                qc.cx(j, j + 1)\n",
    "    \n",
    "    return qc, k\n",
    "\n",
    "\n",
    "def initialize_parameters(n_params, vals = None) -> np.ndarray:\n",
    "    '''\n",
    "    Return `np.ndarray` of size `(n_params,)` based on `vals`:\n",
    "    - `None` (default): randomly initialized\n",
    "    - Numeric: all set to `vals` E [0, 2pi)\n",
    "    '''\n",
    "    if vals is None:\n",
    "        return np.random.uniform(0, 2 * np.pi, size=(n_params,))\n",
    "    else:\n",
    "        # assuming vals E [0, 2pi)\n",
    "        return np.ones(size=(n_params,)) * vals\n",
    "\n",
    "\n",
    "def expectation(ansatz, observable, estimator, th):\n",
    "    '''\n",
    "    Return expectation of `observable` on `ansatz` with params `th` run using `estimator`\n",
    "    '''\n",
    "    pub = (ansatz, [observable], [th])\n",
    "    result = estimator.run(pubs=[pub]).result()\n",
    "    energy = result[0].data.evs[0]\n",
    "    \n",
    "    return energy\n",
    "\n",
    "\n",
    "def cost_fn(ansatz, observables, estimator, th, add_to_history=True):\n",
    "    '''\n",
    "    Return cost for `ansatz` with params `th` with `observables`, run using `estimator`\n",
    "    '''\n",
    "    # using C(th) = <O>, where O = Hamiltonian\n",
    "    # only one observable\n",
    "    cost = expectation(ansatz, observables[0], estimator, th)\n",
    "\n",
    "    # modify cost history\n",
    "    if add_to_history:\n",
    "        cost_history[\"iters\"] += 1\n",
    "        cost_history[\"prev_th\"] = th\n",
    "        cost_history[\"cost\"].append(cost)\n",
    "    \n",
    "    return cost\n",
    "\n",
    "\n",
    "def calculate_gradients(bound_cost_fn, th, alpha):\n",
    "    '''\n",
    "    Return gradient using the parameter shift rule:\n",
    "    \n",
    "    `grad C = (C(th+) - C(th-)) / (2 * sin(alpha))`\n",
    "    \n",
    "    as `np.ndarray` of size `(n,1)`\n",
    "    '''\n",
    "    \n",
    "    # apply using: th +- alpha*I\n",
    "    # where th (n,1) is broadcast to size (n,n) of I\n",
    "    delta = np.identity(th.size) * alpha\n",
    "    return (bound_cost_fn(th + delta, False) - bound_cost_fn(th - delta, False)) / (2 * np.sin(alpha))\n",
    "\n",
    "\n",
    "def update_parameters(th, gradients, learning_rate):\n",
    "    '''\n",
    "    Return `th` updated according to simple Gradient Descent\n",
    "    \n",
    "    `th' = th - grad * learning_rate`\n",
    "    '''\n",
    "    th_prime = th - gradients * learning_rate\n",
    "    return th_prime\n",
    "    "
   ]
  },
  {
   "cell_type": "markdown",
   "metadata": {},
   "source": [
    "## Main training loop"
   ]
  },
  {
   "cell_type": "code",
   "execution_count": 21,
   "metadata": {},
   "outputs": [],
   "source": [
    "# Step 0: Define backend and primitive\n",
    "backend = AerSimulator()  # ref 2\n",
    "pm = generate_preset_pass_manager(target=backend.target, optimization_level=3)\n",
    "estimator = EstimatorV2(mode=backend)"
   ]
  },
  {
   "cell_type": "code",
   "execution_count": 22,
   "metadata": {},
   "outputs": [],
   "source": [
    "# Step 1: Define ansatz params, observables (hamiltonian) and optimizer params\n",
    "n_qubits = 2\n",
    "n_layers = 2\n",
    "\n",
    "H = SparsePauliOp([\"XX\", \"YY\", \"IZ\"])\n",
    "observables = [H]\n",
    "\n",
    "learning_rate = 0.1\n",
    "n_steps = 25\n",
    "\n",
    "alpha = np.pi / 4"
   ]
  },
  {
   "cell_type": "code",
   "execution_count": null,
   "metadata": {},
   "outputs": [
    {
     "data": {
      "image/png": "[encoded data removed]",
      "text/plain": [
       "<Figure size 956.183x200.667 with 1 Axes>"
      ]
     },
     "metadata": {},
     "output_type": "display_data"
    },
    {
     "data": {
      "image/png": "[encoded data removed]",
      "text/plain": [
       "<Figure size 956.183x200.667 with 1 Axes>"
      ]
     },
     "metadata": {},
     "output_type": "display_data"
    }
   ],
   "source": [
    "# Step 2: Initialize circuit and parameters\n",
    "ansatz, n = parameterized_ansatz(n_qubits=n_qubits, n_layers=n_layers, linear=True)\n",
    "th = initialize_parameters(n)\n",
    "\n",
    "# transpile circuit and transform observable to be backend-compatible\n",
    "# ref 1\n",
    "ansatz_isa = pm.run(ansatz)\n",
    "observables_isa = [o.apply_layout(layout=ansatz_isa.layout) for o in observables]\n",
    "\n",
    "# fixing the ansatz, observable and estimator for cost_fn, for use in optimizer\n",
    "bound_cost_fn = lambda th, add_to_history=True: cost_fn(ansatz_isa, observables_isa, estimator, th, add_to_history)\n",
    "\n",
    "# draw ansatz and isa ansatz\n",
    "_ = ansatz.draw(output='mpl')\n",
    "_ = ansatz_isa.draw(output='mpl', idle_wires=False)"
   ]
  },
  {
   "cell_type": "code",
   "execution_count": null,
   "metadata": {},
   "outputs": [],
   "source": [
    "# NOTE: pretrained params, use for better results:\n",
    "pretrained_params = np.array([4.1807811, 4.82180505, -1.5615796, 6.27185951, 5.94871168, 4.42402336, 4.71984558, 4.79599041])\n",
    "# th = pretrained_params"
   ]
  },
  {
   "cell_type": "code",
   "execution_count": 51,
   "metadata": {},
   "outputs": [
    {
     "name": "stdout",
     "output_type": "stream",
     "text": [
      "[51] C(θ) = -2.25439453125\n",
      "[52] C(θ) = -2.26318359375\n",
      "[53] C(θ) = -2.236328125\n",
      "[54] C(θ) = -2.25927734375\n",
      "[55] C(θ) = -2.20703125\n",
      "[56] C(θ) = -2.216796875\n",
      "[57] C(θ) = -2.2099609375\n",
      "[58] C(θ) = -2.21337890625\n",
      "[59] C(θ) = -2.19677734375\n",
      "[60] C(θ) = -2.26220703125\n",
      "[61] C(θ) = -2.2529296875\n",
      "[62] C(θ) = -2.2255859375\n",
      "[63] C(θ) = -2.22412109375\n",
      "[64] C(θ) = -2.2548828125\n",
      "[65] C(θ) = -2.22509765625\n",
      "[66] C(θ) = -2.2294921875\n",
      "[67] C(θ) = -2.2392578125\n",
      "[68] C(θ) = -2.21728515625\n",
      "[69] C(θ) = -2.2470703125\n",
      "[70] C(θ) = -2.2666015625\n",
      "[71] C(θ) = -2.251953125\n",
      "[72] C(θ) = -2.2734375\n",
      "[73] C(θ) = -2.2294921875\n",
      "[74] C(θ) = -2.2197265625\n",
      "[75] C(θ) = -2.22802734375\n"
     ]
    }
   ],
   "source": [
    "# Training loop\n",
    "for step in range(n_steps):    \n",
    "    # 1. Evaluate the cost function\n",
    "    cost = bound_cost_fn(th)\n",
    "    print(f\"[{cost_history['iters']}] C(θ) = {cost}\")\n",
    "    \n",
    "    # 2. Calculate gradients with respect to parameters\n",
    "    gradients = calculate_gradients(bound_cost_fn, th, alpha)\n",
    "    \n",
    "    # 3. Update parameters using gradient descent\n",
    "    th = update_parameters(th, gradients, learning_rate)\n",
    "\n",
    "\n",
    "# Step 4: Finalize results\n",
    "trained_params = th\n",
    "optimized_circuit = ansatz.assign_parameters(th)\n",
    "ground_state_energy = expectation(ansatz_isa, H, estimator, th)\n"
   ]
  },
  {
   "cell_type": "code",
   "execution_count": 52,
   "metadata": {},
   "outputs": [
    {
     "data": {
      "image/png": "[encoded data removed]",
      "text/plain": [
       "<Figure size 621.739x200.667 with 1 Axes>"
      ]
     },
     "metadata": {},
     "output_type": "display_data"
    }
   ],
   "source": [
    "# draw final optimized circuit\n",
    "_ = optimized_circuit.draw(output='mpl')"
   ]
  },
  {
   "cell_type": "code",
   "execution_count": 53,
   "metadata": {},
   "outputs": [],
   "source": [
    "# `qiskit.algorithms.NumPyEigensolver` was deprecated in Qiskit 0.4 and is now removed based on online API docs\n",
    "# using `scipy.linalg.eigh` for getting eigenvals\n",
    "\n",
    "H_mat = H.to_matrix(sparse=False)\n",
    "eigenvals, _ = eigh(H_mat)\n",
    "ground_state_energy_theoretical = np.min(eigenvals)"
   ]
  },
  {
   "cell_type": "code",
   "execution_count": 54,
   "metadata": {},
   "outputs": [
    {
     "name": "stdout",
     "output_type": "stream",
     "text": [
      "(E_0)_calculated = -2.2490234375\n",
      "(E_0)_theoretical = -2.236067977499788\n"
     ]
    }
   ],
   "source": [
    "print(\"(E_0)_calculated =\", ground_state_energy)\n",
    "print(\"(E_0)_theoretical =\", ground_state_energy_theoretical)"
   ]
  },
  {
   "cell_type": "code",
   "execution_count": 55,
   "metadata": {},
   "outputs": [
    {
     "data": {
      "text/plain": [
       "array([ 4.1807811 ,  4.82180505, -1.5615796 ,  6.27185951,  5.94871168,\n",
       "        4.42402336,  4.71984558,  4.79599041])"
      ]
     },
     "execution_count": 55,
     "metadata": {},
     "output_type": "execute_result"
    }
   ],
   "source": [
    "trained_params"
   ]
  },
  {
   "cell_type": "code",
   "execution_count": 50,
   "metadata": {},
   "outputs": [
    {
     "data": {
      "image/png": "[encoded data removed]",
      "text/plain": [
       "<Figure size 640x480 with 1 Axes>"
      ]
     },
     "metadata": {},
     "output_type": "display_data"
    }
   ],
   "source": [
    "import matplotlib.pyplot as plt\n",
    "\n",
    "# plot C(θ) vs Iterations\n",
    "plt.plot(np.arange(cost_history[\"iters\"]), cost_history[\"cost\"])\n",
    "plt.xlabel(\"Iterations\")\n",
    "plt.ylabel(\"C(θ)\")\n",
    "\n",
    "# plot theoretical ground state energy\n",
    "plt.axhline(y=ground_state_energy_theoretical, color='r', ls='--')\n",
    "plt.yticks(list(plt.yticks()[0]) + [ground_state_energy_theoretical])\n",
    "\n",
    "plt.show()"
   ]
  },
  {
   "cell_type": "code",
   "execution_count": null,
   "metadata": {},
   "outputs": [],
   "source": []
  }
 ],
 "metadata": {
  "kernelspec": {
   "display_name": "venv",
   "language": "python",
   "name": "python3"
  },
  "language_info": {
   "codemirror_mode": {
    "name": "ipython",
    "version": 3
   },
   "file_extension": ".py",
   "mimetype": "text/x-python",
   "name": "python",
   "nbconvert_exporter": "python",
   "pygments_lexer": "ipython3",
   "version": "3.12.8"
  }
 },
 "nbformat": 4,
 "nbformat_minor": 2
}
